{
 "cells": [
  {
   "cell_type": "code",
   "execution_count": null,
   "id": "8651ecf5",
   "metadata": {},
   "outputs": [],
   "source": [
    "import sys\n",
    "!{sys.executable} -m pip install openai"
   ]
  },
  {
   "cell_type": "code",
   "execution_count": 1,
   "id": "5a9c289b",
   "metadata": {},
   "outputs": [],
   "source": [
    "import pandas as pd\n",
    "import numpy as np\n",
    "import openai\n",
    "from openai import OpenAI\n",
    "from PIL import Image\n",
    "import io\n",
    "import os\n",
    "import base64\n",
    "client = OpenAI(api_key=\"sk-proj-O88G5vSXATbUiecnlRy5T3BlbkFJ8XVgsyI8z1cNmUzj3Uah\")\n",
    "os.environ[\"OPENAI_API_KEY\"] = \"sk-proj-O88G5vSXATbUiecnlRy5T3BlbkFJ8XVgsyI8z1cNmUzj3Uah\"\n",
    "image_path = \"\"\n",
    "temperature = 0.7 \n",
    "max_tokens = 2048"
   ]
  },
  {
   "cell_type": "code",
   "execution_count": 2,
   "id": "4d604d7b",
   "metadata": {},
   "outputs": [],
   "source": [
    "# Function for encoding the image\n",
    "    \n",
    "def encode_image(image_path=image_path):\n",
    "    with open(image_path, \"rb\") as image_file:\n",
    "        return base64.b64encode(image_file.read()).decode(\"utf-8\")\n",
    "\n",
    "\n",
    "# Function to generate a prompt with an image input\n",
    "def generate_prompt(image_data, system_prompt, temperature=temperature, max_tokens=max_tokens):\n",
    "    return {\n",
    "        'model': 'gpt-4o',\n",
    "        'messages': [\n",
    "            {'role': 'system', 'content': system_prompt},\n",
    "            {\"role\": \"user\", \"content\": [\n",
    "            {\"type\": \"text\", \"text\": \"Here is the image of the tourist attraction.\"},\n",
    "            {\"type\": \"image_url\", \"image_url\": {\n",
    "                \"url\": f\"data:image/png;base64,{base64_image}\"}\n",
    "            }\n",
    "        ]}\n",
    "        ],\n",
    "        'temperature': temperature,\n",
    "        'max_tokens': max_tokens\n",
    "    }\n",
    "\n",
    "\n",
    "# Function to call the ChatGPT API\n",
    "def call_chatgpt(prompt):\n",
    "    response = client.chat.completions.create(**prompt)\n",
    "    return response.choices[0].message.content\n",
    "\n",
    "\n",
    "# Main function to process an image and get an answer\n",
    "def process_image(file_path, system_prompt):\n",
    "    image_data = encode_image(image_path)\n",
    "    prompt = generate_prompt(image_data, system_prompt)\n",
    "    answer = call_chatgpt(prompt)\n",
    "    return answer"
   ]
  },
  {
   "cell_type": "markdown",
   "id": "c66e9cba",
   "metadata": {},
   "source": [
    "-Temperature is a number between 0 and 2, with a default value of 1 or 0.7 depending on the model you choose. The temperature is used to control the randomness of the output. When you set it higher, you'll get more random outputs. When you set it lower, towards 0, the values are more deterministic.\n",
    "\n",
    "-Max tokens is the maximum number of tokens to generate in the completion. The token count of your prompt plus max_tokens cannot exceed the model’s context length. Most models have a context length of 2048 tokens (except for the newest models, which support 4096)."
   ]
  },
  {
   "cell_type": "code",
   "execution_count": 3,
   "id": "1b79697f",
   "metadata": {},
   "outputs": [],
   "source": [
    "# Parameters to tune (check the definitions above)\n",
    "\n",
    "temperature = 0.7 \n",
    "max_tokens = 2048"
   ]
  },
  {
   "cell_type": "code",
   "execution_count": 6,
   "id": "7a986b95",
   "metadata": {},
   "outputs": [
    {
     "name": "stdout",
     "output_type": "stream",
     "text": [
      "This image features the Ankara Castle (Ankara Kalesi) in Ankara, Turkey. \n",
      "\n",
      "### Brief Information:\n",
      "Ankara Castle is a prominent historical landmark located in the capital city of Turkey. This ancient fortification offers a panoramic view of the city and is a significant historical site.\n",
      "\n",
      "### Historical Facts:\n",
      "1. **Origins and Construction**: The exact origins of Ankara Castle are not clear, with some estimates suggesting its construction dates back to the Roman, Byzantine, or even earlier periods. However, it has seen numerous renovations and expansions over the centuries, especially during the Seljuk and Ottoman periods.\n",
      "\n",
      "2. **Strategic Importance**: Due to its elevated position, the castle served as a strategic military stronghold, providing a vantage point over the surrounding area. It was crucial in the defense of the city throughout various periods of history.\n",
      "\n",
      "3. **Architecture**: The castle comprises an inner and outer section. The inner castle, or 'Kaleiçi,' features ancient towers, walls, and narrow streets lined with traditional houses, some of which have been converted into restaurants and shops.\n",
      "\n",
      "4. **Cultural Hub**: Today, Ankara Castle is not only a historical site but also a cultural hub. It hosts various festivals, art exhibitions, and cultural events, attracting both locals and tourists.\n",
      "\n",
      "5. **Renovations and Preservation**: Efforts have been made to preserve and restore parts of the castle to maintain its historical significance and appeal.\n",
      "\n",
      "Visitors to Ankara often climb to the top of the castle to enjoy the breathtaking views of the cityscape and explore the rich history encapsulated within its walls.\n"
     ]
    }
   ],
   "source": [
    "# Example usage\n",
    "\n",
    "image_path = \"ankara_kalesi.png\"  # Replace with the path to your image file\n",
    "\n",
    "city_name = \"Ankara\"\n",
    "\n",
    "# The system prompt below can be altered\n",
    "\n",
    "# system_prompt = f\"\"\"\n",
    "# You are an AI that specializes in analyzing images of tourist attractions and landmarks, uploaded by tourists.\n",
    "# This tourist attraction is located in the city of {city_name}. Identify the name of the tourist attraction. Give brief\n",
    "# information and some historical facts about there. If you are not sure about your identification, don't make a guess and express\n",
    "# that you could not identified the attraction.\n",
    "# \"\"\"\n",
    "\n",
    "system_prompt = f\"\"\"\n",
    "You are an AI that specializes in analyzing images of tourist attractions and landmarks, uploaded by tourists.\n",
    "Identify the name of the tourist attraction. Give brief information and some historical facts about there. If you are not sure about your identification, don't make a guess and express\n",
    "that you could not identified the attraction.\n",
    "\"\"\"\n",
    "\n",
    "\n",
    "base64_image = encode_image(image_path) # Creating the base64 version of the image\n",
    "answer = process_image(image_path, system_prompt)\n",
    "print(answer)"
   ]
  },
  {
   "cell_type": "code",
   "execution_count": null,
   "id": "8c14ef11",
   "metadata": {},
   "outputs": [],
   "source": []
  }
 ],
 "metadata": {
  "kernelspec": {
   "display_name": "Python 3 (ipykernel)",
   "language": "python",
   "name": "python3"
  },
  "language_info": {
   "codemirror_mode": {
    "name": "ipython",
    "version": 3
   },
   "file_extension": ".py",
   "mimetype": "text/x-python",
   "name": "python",
   "nbconvert_exporter": "python",
   "pygments_lexer": "ipython3",
   "version": "3.8.8"
  }
 },
 "nbformat": 4,
 "nbformat_minor": 5
}
